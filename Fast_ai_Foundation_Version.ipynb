{
  "nbformat": 4,
  "nbformat_minor": 0,
  "metadata": {
    "colab": {
      "name": "Untitled23.ipynb",
      "provenance": [],
      "include_colab_link": true
    },
    "kernelspec": {
      "name": "python3",
      "display_name": "Python 3"
    }
  },
  "cells": [
    {
      "cell_type": "markdown",
      "metadata": {
        "id": "view-in-github",
        "colab_type": "text"
      },
      "source": [
        "<a href=\"https://colab.research.google.com/github/stanimman/fastai/blob/master/Fast_ai_Foundation_Version.ipynb\" target=\"_parent\"><img src=\"https://colab.research.google.com/assets/colab-badge.svg\" alt=\"Open In Colab\"/></a>"
      ]
    },
    {
      "cell_type": "code",
      "metadata": {
        "id": "7qOuTDA5ig52",
        "colab_type": "code",
        "colab": {}
      },
      "source": [
        ""
      ],
      "execution_count": 0,
      "outputs": []
    },
    {
      "cell_type": "code",
      "metadata": {
        "id": "egj2r-nUiwsQ",
        "colab_type": "code",
        "colab": {
          "base_uri": "https://localhost:8080/",
          "height": 204
        },
        "outputId": "7a1b6870-0d54-4fd8-a5c9-01affdd16807"
      },
      "source": [
        "!wget https://fs6.transfernow.net/download/5d884812aac5e/master/XR_ELBOW_v1.1.zip"
      ],
      "execution_count": 2,
      "outputs": [
        {
          "output_type": "stream",
          "text": [
            "--2019-09-23 05:18:12--  https://fs6.transfernow.net/download/5d884812aac5e/master/XR_ELBOW_v1.1.zip\n",
            "Resolving fs6.transfernow.net (fs6.transfernow.net)... 163.172.20.194\n",
            "Connecting to fs6.transfernow.net (fs6.transfernow.net)|163.172.20.194|:443... connected.\n",
            "HTTP request sent, awaiting response... 200 OK\n",
            "Length: 446967685 (426M) [application/zip]\n",
            "Saving to: ‘XR_ELBOW_v1.1.zip’\n",
            "\n",
            "XR_ELBOW_v1.1.zip   100%[===================>] 426.26M  5.01MB/s    in 92s     \n",
            "\n",
            "2019-09-23 05:19:44 (4.64 MB/s) - ‘XR_ELBOW_v1.1.zip’ saved [446967685/446967685]\n",
            "\n"
          ],
          "name": "stdout"
        }
      ]
    },
    {
      "cell_type": "code",
      "metadata": {
        "id": "6p6a-iLtiyxz",
        "colab_type": "code",
        "colab": {
          "base_uri": "https://localhost:8080/",
          "height": 136
        },
        "outputId": "0d4cc413-5d0e-4fa8-d09e-6d23c5aa5b2d"
      },
      "source": [
        "!git clone https://github.com/stanimman/Fast_ai"
      ],
      "execution_count": 10,
      "outputs": [
        {
          "output_type": "stream",
          "text": [
            "Cloning into 'Fast_ai'...\n",
            "remote: Enumerating objects: 30, done.\u001b[K\n",
            "remote: Counting objects:   3% (1/30)\u001b[K\rremote: Counting objects:   6% (2/30)\u001b[K\rremote: Counting objects:  10% (3/30)\u001b[K\rremote: Counting objects:  13% (4/30)\u001b[K\rremote: Counting objects:  16% (5/30)\u001b[K\rremote: Counting objects:  20% (6/30)\u001b[K\rremote: Counting objects:  23% (7/30)\u001b[K\rremote: Counting objects:  26% (8/30)\u001b[K\rremote: Counting objects:  30% (9/30)\u001b[K\rremote: Counting objects:  33% (10/30)\u001b[K\rremote: Counting objects:  36% (11/30)\u001b[K\rremote: Counting objects:  40% (12/30)\u001b[K\rremote: Counting objects:  43% (13/30)\u001b[K\rremote: Counting objects:  46% (14/30)\u001b[K\rremote: Counting objects:  50% (15/30)\u001b[K\rremote: Counting objects:  53% (16/30)\u001b[K\rremote: Counting objects:  56% (17/30)\u001b[K\rremote: Counting objects:  60% (18/30)\u001b[K\rremote: Counting objects:  63% (19/30)\u001b[K\rremote: Counting objects:  66% (20/30)\u001b[K\rremote: Counting objects:  70% (21/30)\u001b[K\rremote: Counting objects:  73% (22/30)\u001b[K\rremote: Counting objects:  76% (23/30)\u001b[K\rremote: Counting objects:  80% (24/30)\u001b[K\rremote: Counting objects:  83% (25/30)\u001b[K\rremote: Counting objects:  86% (26/30)\u001b[K\rremote: Counting objects:  90% (27/30)\u001b[K\rremote: Counting objects:  93% (28/30)\u001b[K\rremote: Counting objects:  96% (29/30)\u001b[K\rremote: Counting objects: 100% (30/30)\u001b[K\rremote: Counting objects: 100% (30/30), done.\u001b[K\n",
            "remote: Compressing objects:   3% (1/29)\u001b[K\rremote: Compressing objects:   6% (2/29)\u001b[K\rremote: Compressing objects:  10% (3/29)\u001b[K\rremote: Compressing objects:  13% (4/29)\u001b[K\rremote: Compressing objects:  17% (5/29)\u001b[K\rremote: Compressing objects:  20% (6/29)\u001b[K\rremote: Compressing objects:  24% (7/29)\u001b[K\rremote: Compressing objects:  27% (8/29)\u001b[K\rremote: Compressing objects:  31% (9/29)\u001b[K\rremote: Compressing objects:  34% (10/29)\u001b[K\rremote: Compressing objects:  37% (11/29)\u001b[K\rremote: Compressing objects:  41% (12/29)\u001b[K\rremote: Compressing objects:  44% (13/29)\u001b[K\rremote: Compressing objects:  48% (14/29)\u001b[K\rremote: Compressing objects:  51% (15/29)\u001b[K\rremote: Compressing objects:  55% (16/29)\u001b[K\rremote: Compressing objects:  58% (17/29)\u001b[K\rremote: Compressing objects:  62% (18/29)\u001b[K\rremote: Compressing objects:  65% (19/29)\u001b[K\rremote: Compressing objects:  68% (20/29)\u001b[K\rremote: Compressing objects:  72% (21/29)\u001b[K\rremote: Compressing objects:  75% (22/29)\u001b[K\rremote: Compressing objects:  79% (23/29)\u001b[K\rremote: Compressing objects:  82% (24/29)\u001b[K\rremote: Compressing objects:  86% (25/29)\u001b[K\rremote: Compressing objects:  89% (26/29)\u001b[K\rremote: Compressing objects:  93% (27/29)\u001b[K\rremote: Compressing objects:  96% (28/29)\u001b[K\rremote: Compressing objects: 100% (29/29)\u001b[K\rremote: Compressing objects: 100% (29/29), done.\u001b[K\n",
            "Receiving objects:   0% (1/136)   \rReceiving objects:   1% (2/136)   \rReceiving objects:   2% (3/136)   \rReceiving objects:   3% (5/136)   \rReceiving objects:   4% (6/136)   \rReceiving objects:   5% (7/136)   \rReceiving objects:   6% (9/136)   \rReceiving objects:   7% (10/136)   \rReceiving objects:   8% (11/136)   \rReceiving objects:   9% (13/136)   \rReceiving objects:  10% (14/136)   \rReceiving objects:  11% (15/136)   \rReceiving objects:  12% (17/136)   \rReceiving objects:  13% (18/136)   \rReceiving objects:  14% (20/136)   \rReceiving objects:  15% (21/136)   \rReceiving objects:  16% (22/136)   \rReceiving objects:  17% (24/136)   \rReceiving objects:  18% (25/136)   \rReceiving objects:  19% (26/136)   \rReceiving objects:  20% (28/136)   \rReceiving objects:  21% (29/136)   \rReceiving objects:  22% (30/136)   \rReceiving objects:  23% (32/136)   \rReceiving objects:  24% (33/136)   \rReceiving objects:  25% (34/136)   \rReceiving objects:  26% (36/136)   \rReceiving objects:  27% (37/136)   \rReceiving objects:  28% (39/136)   \rReceiving objects:  29% (40/136)   \rReceiving objects:  30% (41/136)   \rReceiving objects:  31% (43/136)   \rReceiving objects:  32% (44/136)   \rReceiving objects:  33% (45/136)   \rReceiving objects:  34% (47/136)   \rReceiving objects:  35% (48/136)   \rReceiving objects:  36% (49/136)   \rReceiving objects:  37% (51/136)   \rReceiving objects:  38% (52/136)   \rReceiving objects:  39% (54/136)   \rReceiving objects:  40% (55/136)   \rReceiving objects:  41% (56/136)   \rReceiving objects:  42% (58/136)   \rReceiving objects:  43% (59/136)   \rReceiving objects:  44% (60/136)   \rReceiving objects:  45% (62/136)   \rReceiving objects:  46% (63/136)   \rReceiving objects:  47% (64/136)   \rReceiving objects:  48% (66/136)   \rReceiving objects:  49% (67/136)   \rReceiving objects:  50% (68/136)   \rReceiving objects:  51% (70/136)   \rReceiving objects:  52% (71/136)   \rReceiving objects:  53% (73/136)   \rReceiving objects:  54% (74/136)   \rReceiving objects:  55% (75/136)   \rReceiving objects:  56% (77/136)   \rReceiving objects:  57% (78/136)   \rReceiving objects:  58% (79/136)   \rReceiving objects:  59% (81/136)   \rReceiving objects:  60% (82/136)   \rReceiving objects:  61% (83/136)   \rReceiving objects:  62% (85/136)   \rReceiving objects:  63% (86/136)   \rReceiving objects:  64% (88/136)   \rReceiving objects:  65% (89/136)   \rReceiving objects:  66% (90/136)   \rReceiving objects:  67% (92/136)   \rReceiving objects:  68% (93/136)   \rReceiving objects:  69% (94/136)   \rReceiving objects:  70% (96/136)   \rReceiving objects:  71% (97/136)   \rReceiving objects:  72% (98/136)   \rReceiving objects:  73% (100/136)   \rReceiving objects:  74% (101/136)   \rremote: Total 136 (delta 4), reused 0 (delta 0), pack-reused 106\u001b[K\n",
            "Receiving objects:  75% (102/136)   \rReceiving objects:  76% (104/136)   \rReceiving objects:  77% (105/136)   \rReceiving objects:  78% (107/136)   \rReceiving objects:  79% (108/136)   \rReceiving objects:  80% (109/136)   \rReceiving objects:  81% (111/136)   \rReceiving objects:  82% (112/136)   \rReceiving objects:  83% (113/136)   \rReceiving objects:  84% (115/136)   \rReceiving objects:  85% (116/136)   \rReceiving objects:  86% (117/136)   \rReceiving objects:  87% (119/136)   \rReceiving objects:  88% (120/136)   \rReceiving objects:  89% (122/136)   \rReceiving objects:  90% (123/136)   \rReceiving objects:  91% (124/136)   \rReceiving objects:  92% (126/136)   \rReceiving objects:  93% (127/136)   \rReceiving objects:  94% (128/136)   \rReceiving objects:  95% (130/136)   \rReceiving objects:  96% (131/136)   \rReceiving objects:  97% (132/136)   \rReceiving objects:  98% (134/136)   \rReceiving objects:  99% (135/136)   \rReceiving objects: 100% (136/136)   \rReceiving objects: 100% (136/136), 4.47 MiB | 22.02 MiB/s, done.\n",
            "Resolving deltas:   0% (0/49)   \rResolving deltas:  51% (25/49)   \rResolving deltas:  69% (34/49)   \rResolving deltas:  73% (36/49)   \rResolving deltas:  75% (37/49)   \rResolving deltas:  79% (39/49)   \rResolving deltas:  81% (40/49)   \rResolving deltas:  83% (41/49)   \rResolving deltas: 100% (49/49)   \rResolving deltas: 100% (49/49), done.\n"
          ],
          "name": "stdout"
        }
      ]
    },
    {
      "cell_type": "code",
      "metadata": {
        "id": "kSBSvvLSnNUq",
        "colab_type": "code",
        "colab": {
          "base_uri": "https://localhost:8080/",
          "height": 85
        },
        "outputId": "c753afc5-8a0e-4784-b861-6167a8d25065"
      },
      "source": [
        "!ls Fast_ai/exp"
      ],
      "execution_count": 15,
      "outputs": [
        {
          "output_type": "stream",
          "text": [
            "__init__.py  nb_03.py\tnb_06.py   nb_09b.py  nb_10c.py  nb_12a.py\n",
            "nb_00.py     nb_04.py\tnb_07a.py  nb_09c.py  nb_10.py\t nb_12.py\n",
            "nb_01.py     nb_05b.py\tnb_07.py   nb_09.py   nb_11a.py  __pycache__\n",
            "nb_02.py     nb_05.py\tnb_08.py   nb_10b.py  nb_11.py\n"
          ],
          "name": "stdout"
        }
      ]
    },
    {
      "cell_type": "code",
      "metadata": {
        "id": "p_dKzOCFn_zq",
        "colab_type": "code",
        "colab": {
          "base_uri": "https://localhost:8080/",
          "height": 34
        },
        "outputId": "98e10c8d-8dbf-418d-92c5-a8c409ab6cf9"
      },
      "source": [
        "!pwd"
      ],
      "execution_count": 16,
      "outputs": [
        {
          "output_type": "stream",
          "text": [
            "/content\n"
          ],
          "name": "stdout"
        }
      ]
    },
    {
      "cell_type": "code",
      "metadata": {
        "id": "dVmmwmsUozoh",
        "colab_type": "code",
        "colab": {
          "base_uri": "https://localhost:8080/",
          "height": 34
        },
        "outputId": "e1cdbcb3-4f80-4e7d-a6be-6d49709535ac"
      },
      "source": [
        "!ls"
      ],
      "execution_count": 27,
      "outputs": [
        {
          "output_type": "stream",
          "text": [
            "1e3jf4md2v26  course-v3  Fast_ai  sample_data  XR_ELBOW_v1.1.zip\n"
          ],
          "name": "stdout"
        }
      ]
    },
    {
      "cell_type": "code",
      "metadata": {
        "id": "0OvT-YfupDB8",
        "colab_type": "code",
        "colab": {}
      },
      "source": [
        "-T dir1 dir2"
      ],
      "execution_count": 0,
      "outputs": []
    },
    {
      "cell_type": "code",
      "metadata": {
        "id": "AOswzu2jplYR",
        "colab_type": "code",
        "colab": {}
      },
      "source": [
        "rm -r /content/exp"
      ],
      "execution_count": 0,
      "outputs": []
    },
    {
      "cell_type": "code",
      "metadata": {
        "id": "jhIkndJVolHD",
        "colab_type": "code",
        "colab": {}
      },
      "source": [
        "mv -T course-v3/nbs/dl2/exp /content/exp"
      ],
      "execution_count": 0,
      "outputs": []
    },
    {
      "cell_type": "code",
      "metadata": {
        "id": "nErlefbulAnC",
        "colab_type": "code",
        "colab": {
          "base_uri": "https://localhost:8080/",
          "height": 374
        },
        "outputId": "8d98ae19-9503-4c9f-8157-f04b18a5e3d7"
      },
      "source": [
        "!ls course-v3/nbs/dl2/"
      ],
      "execution_count": 8,
      "outputs": [
        {
          "output_type": "stream",
          "text": [
            "00_exports.ipynb\t\t 11_train_imagenette.ipynb\n",
            "01_matmul.ipynb\t\t\t 12a_awd_lstm.ipynb\n",
            "02a_why_sqrt5.ipynb\t\t 12b_lm_pretrain.ipynb\n",
            "02b_initializing.ipynb\t\t 12c_ulmfit.ipynb\n",
            "02_fully_connected.ipynb\t 12_text.ipynb\n",
            "03_minibatch_training.ipynb\t audio.ipynb\n",
            "04_callbacks.ipynb\t\t bleu_metric.ipynb\n",
            "05a_foundations.ipynb\t\t cyclegan.ipynb\n",
            "05_anneal.ipynb\t\t\t cyclegan_ws.ipynb\n",
            "05b_early_stopping.ipynb\t devise.ipynb\n",
            "06_cuda_cnn_hooks_init.ipynb\t exp\n",
            "07a_lsuv.ipynb\t\t\t images\n",
            "07_batchnorm.ipynb\t\t notebook2script.py\n",
            "08_data_block.ipynb\t\t pascal.ipynb\n",
            "09b_learner.ipynb\t\t run_notebook.py\n",
            "09c_add_progress_bar.ipynb\t timing.ipynb\n",
            "09_optimizers.ipynb\t\t train_imagenette.py\n",
            "10_augmentation.ipynb\t\t transforms-dali.ipynb\n",
            "10b_mixup_label_smoothing.ipynb  translation.ipynb\n",
            "10c_fp16.ipynb\t\t\t translation_transformer.ipynb\n",
            "11a_transfer_learning.ipynb\n"
          ],
          "name": "stdout"
        }
      ]
    },
    {
      "cell_type": "code",
      "metadata": {
        "id": "LaAGux4ylUmH",
        "colab_type": "code",
        "colab": {}
      },
      "source": [
        "#export\n",
        "from exp.nb_01 import *"
      ],
      "execution_count": 0,
      "outputs": []
    },
    {
      "cell_type": "code",
      "metadata": {
        "id": "HsEsGNIWks3n",
        "colab_type": "code",
        "colab": {}
      },
      "source": [
        "#export\n",
        "from exp.nb_01 import *\n",
        "\n",
        "def get_data():\n",
        "    path = datasets.download_data(MNIST_URL, ext='.gz')\n",
        "    with gzip.open(path, 'rb') as f:\n",
        "        ((x_train, y_train), (x_valid, y_valid), _) = pickle.load(f, encoding='latin-1')\n",
        "    return map(tensor, (x_train,y_train,x_valid,y_valid))\n",
        "\n",
        "def normalize(x, m, s): return (x-m)/s"
      ],
      "execution_count": 0,
      "outputs": []
    },
    {
      "cell_type": "code",
      "metadata": {
        "id": "jY7GMPlZqbiH",
        "colab_type": "code",
        "colab": {}
      },
      "source": [
        "x_train,y_train,x_valid,y_valid = get_data()"
      ],
      "execution_count": 0,
      "outputs": []
    },
    {
      "cell_type": "code",
      "metadata": {
        "id": "viBflzbzqgK9",
        "colab_type": "code",
        "colab": {
          "base_uri": "https://localhost:8080/",
          "height": 34
        },
        "outputId": "00608d4a-28ed-49f8-d3ce-23b00cbe15c1"
      },
      "source": [
        "train_mean,train_std = x_train.mean(),x_train.std()\n",
        "train_mean,train_std"
      ],
      "execution_count": 33,
      "outputs": [
        {
          "output_type": "execute_result",
          "data": {
            "text/plain": [
              "(tensor(0.1304), tensor(0.3073))"
            ]
          },
          "metadata": {
            "tags": []
          },
          "execution_count": 33
        }
      ]
    }
  ]
}